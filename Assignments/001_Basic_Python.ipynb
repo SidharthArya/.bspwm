{
  "nbformat": 4,
  "nbformat_minor": 0,
  "metadata": {
    "colab": {
      "name": "001-Basic-Python.ipynb",
      "provenance": [],
      "collapsed_sections": [],
      "authorship_tag": "ABX9TyOWVsVy9PiWDFGbk867fqEO",
      "include_colab_link": true
    },
    "kernelspec": {
      "name": "python3",
      "display_name": "Python 3"
    }
  },
  "cells": [
    {
      "cell_type": "markdown",
      "metadata": {
        "id": "view-in-github",
        "colab_type": "text"
      },
      "source": [
        "<a href=\"https://colab.research.google.com/github/SidharthArya/.bspwm/blob/master/Assignments/001_Basic_Python.ipynb\" target=\"_parent\"><img src=\"https://colab.research.google.com/assets/colab-badge.svg\" alt=\"Open In Colab\"/></a>"
      ]
    },
    {
      "cell_type": "markdown",
      "metadata": {
        "id": "6zOjh11Uk59-"
      },
      "source": [
        "# Basics of Python"
      ]
    },
    {
      "cell_type": "code",
      "metadata": {
        "colab": {
          "base_uri": "https://localhost:8080/"
        },
        "id": "3zVuw3P4m4Q-",
        "outputId": "26919d2d-6488-40a2-dc90-f1d9dff92b73"
      },
      "source": [
        "# Variable Assignment\n",
        "a = 4\n",
        "# Printing Variable\n",
        "print(a)"
      ],
      "execution_count": 2,
      "outputs": [
        {
          "output_type": "stream",
          "text": [
            "4\n"
          ],
          "name": "stdout"
        }
      ]
    },
    {
      "cell_type": "code",
      "metadata": {
        "colab": {
          "base_uri": "https://localhost:8080/"
        },
        "id": "bweaZxAdwQkL",
        "outputId": "9cc59b41-6209-47d8-ad75-d70042927940"
      },
      "source": [
        "type(a)"
      ],
      "execution_count": 3,
      "outputs": [
        {
          "output_type": "execute_result",
          "data": {
            "text/plain": [
              "int"
            ]
          },
          "metadata": {
            "tags": []
          },
          "execution_count": 3
        }
      ]
    },
    {
      "cell_type": "markdown",
      "metadata": {
        "id": "Q6AVMpJedqEh"
      },
      "source": [
        "## Basic Operators"
      ]
    },
    {
      "cell_type": "markdown",
      "metadata": {
        "id": "nPUw7AqX1yO3"
      },
      "source": [
        "+ Arithmetic Operators\n",
        "  - \\+  - Addition\n",
        "  - \\-  - Subtraction\n",
        "  - /  - Division\n",
        "  - //  - Floor Division\n",
        "  - \\*  - Multiplication\n",
        "  - \\** - Exponentiation\n",
        "  - % - Modulus\n",
        "\n",
        "+ Comparison Operators\n",
        "  + and - AND\n",
        "  + or - OR\n",
        "  + not - NOT\n",
        "\n",
        "+ Relational Operators\n",
        "  + \\> \\- Greater than\n",
        "  + < - Less than\n",
        "  + == - Equal to\n",
        "  + <= - Less than equal to\n",
        "  + \\>= - Greater than equal to"
      ]
    },
    {
      "cell_type": "code",
      "metadata": {
        "id": "d0cSLNSAk5NT",
        "colab": {
          "base_uri": "https://localhost:8080/"
        },
        "outputId": "31a4eb09-901a-49da-92b4-3e415cb89314"
      },
      "source": [
        "print(\"Addition: a+5 =\", a+5)\n",
        "print(\"Subraction: a-5 =\", a-5)\n",
        "print(\"Division: A/5 =\", a/5)\n",
        "print(\"Floor Division: A//5 =\", a//5)\n",
        "print(\"Multiplication: A*5 =\", a*5)\n",
        "print(\"Exponentiation: a**5 =\", a**5)\n",
        "print(\"Modulus: a%2 =\", a%2)"
      ],
      "execution_count": 4,
      "outputs": [
        {
          "output_type": "stream",
          "text": [
            "Addition: a+5 = 9\n",
            "Subraction: a-5 = -1\n",
            "Division: A/5 = 0.8\n",
            "Floor Division: A//5 = 0\n",
            "Multiplication: A*5 = 20\n",
            "Exponentiation: a**5 = 1024\n",
            "Modulus: a%2 = 0\n"
          ],
          "name": "stdout"
        }
      ]
    },
    {
      "cell_type": "code",
      "metadata": {
        "colab": {
          "base_uri": "https://localhost:8080/"
        },
        "id": "rL2i8Jd_w0oU",
        "outputId": "ef6389d7-5d58-4f8f-8fbc-31e61b254bfd"
      },
      "source": [
        "print(\"True and False = \", True and False)\n",
        "print(\"True or False = \", True or False)\n",
        "print(\"not False = \", not False)"
      ],
      "execution_count": 5,
      "outputs": [
        {
          "output_type": "stream",
          "text": [
            "True and False =  False\n",
            "True or False =  True\n",
            "not False =  True\n"
          ],
          "name": "stdout"
        }
      ]
    },
    {
      "cell_type": "code",
      "metadata": {
        "colab": {
          "base_uri": "https://localhost:8080/"
        },
        "id": "CrxucOnDw4bm",
        "outputId": "f61308b2-5560-4701-8bb4-35092310e4ce"
      },
      "source": [
        "print(\"Greater than: a >5 =\", a>5)\n",
        "print(\"Less Than: a<5 =\", a<5)\n",
        "print(\"Equal to: a==5 =\", a==5)"
      ],
      "execution_count": 6,
      "outputs": [
        {
          "output_type": "stream",
          "text": [
            "Greater than: a >5 = False\n",
            "Less Than: a<5 = True\n",
            "Equal to: a==5 = False\n"
          ],
          "name": "stdout"
        }
      ]
    },
    {
      "cell_type": "code",
      "metadata": {
        "colab": {
          "base_uri": "https://localhost:8080/"
        },
        "id": "CmXw0UCjw7Wf",
        "outputId": "76cd9502-b9c2-4219-c07d-aecac21e5cfa"
      },
      "source": [
        "print(a/3)\n",
        "type(a/3)"
      ],
      "execution_count": 7,
      "outputs": [
        {
          "output_type": "stream",
          "text": [
            "1.3333333333333333\n"
          ],
          "name": "stdout"
        },
        {
          "output_type": "execute_result",
          "data": {
            "text/plain": [
              "float"
            ]
          },
          "metadata": {
            "tags": []
          },
          "execution_count": 7
        }
      ]
    },
    {
      "cell_type": "code",
      "metadata": {
        "id": "4PUWXxZFzWKZ"
      },
      "source": [
        ""
      ],
      "execution_count": 7,
      "outputs": []
    },
    {
      "cell_type": "code",
      "metadata": {
        "id": "ErxxyByH1vCy"
      },
      "source": [
        ""
      ],
      "execution_count": 7,
      "outputs": []
    },
    {
      "cell_type": "markdown",
      "metadata": {
        "id": "KCuiYut4zOz0"
      },
      "source": [
        "## Complex Numbers"
      ]
    },
    {
      "cell_type": "markdown",
      "metadata": {
        "id": "d5Y7Sl7S8MSe"
      },
      "source": [
        "## Strings"
      ]
    },
    {
      "cell_type": "code",
      "metadata": {
        "id": "Mm4_rQbr8Tpx"
      },
      "source": [
        "s1 = \"Hello\"\n",
        "s2 = \"World\""
      ],
      "execution_count": 8,
      "outputs": []
    },
    {
      "cell_type": "code",
      "metadata": {
        "colab": {
          "base_uri": "https://localhost:8080/",
          "height": 41
        },
        "id": "EXkknFV68oIk",
        "outputId": "6f34863b-949f-4ab1-e0d7-9d92d2ed823c"
      },
      "source": [
        "# Concatenation\n",
        "s1 + s2"
      ],
      "execution_count": 9,
      "outputs": [
        {
          "output_type": "execute_result",
          "data": {
            "application/vnd.google.colaboratory.intrinsic+json": {
              "type": "string"
            },
            "text/plain": [
              "'HelloWorld'"
            ]
          },
          "metadata": {
            "tags": []
          },
          "execution_count": 9
        }
      ]
    },
    {
      "cell_type": "code",
      "metadata": {
        "colab": {
          "base_uri": "https://localhost:8080/"
        },
        "id": "f_MBJmuq8vvd",
        "outputId": "3e0e33ec-9ca0-4787-a87e-c8253ea85591"
      },
      "source": [
        "# Multiple Lines\n",
        "print(\"\"\"\\\n",
        "Hello\n",
        "World\n",
        "\"\"\")\n"
      ],
      "execution_count": 11,
      "outputs": [
        {
          "output_type": "stream",
          "text": [
            "Hello\n",
            "World\n",
            "\n"
          ],
          "name": "stdout"
        }
      ]
    },
    {
      "cell_type": "markdown",
      "metadata": {
        "id": "baD8dXKszkbn"
      },
      "source": [
        "## Lists"
      ]
    },
    {
      "cell_type": "code",
      "metadata": {
        "colab": {
          "base_uri": "https://localhost:8080/"
        },
        "id": "7d6MribaznwP",
        "outputId": "5edc4a27-68a1-44e9-f018-e797fc0f248f"
      },
      "source": [
        "#creation of list\n",
        "list1 = [1,2,3,4]\n",
        "list2 = [4,9,1,2]\n",
        "#concatenation of lists\n",
        "list3 = list1 + list2\n",
        "list3"
      ],
      "execution_count": null,
      "outputs": [
        {
          "output_type": "execute_result",
          "data": {
            "text/plain": [
              "[1, 2, 3, 4, 4, 9, 1, 2]"
            ]
          },
          "metadata": {
            "tags": []
          },
          "execution_count": 35
        }
      ]
    },
    {
      "cell_type": "markdown",
      "metadata": {
        "id": "hT6XwM860G8O"
      },
      "source": [
        "### Adding Elements to list"
      ]
    },
    {
      "cell_type": "code",
      "metadata": {
        "colab": {
          "base_uri": "https://localhost:8080/"
        },
        "id": "kEzp0ISD0JiU",
        "outputId": "eeb860f2-7a85-4df0-e06b-837c33b5892c"
      },
      "source": [
        "list3.append(10)\n",
        "print(list3)"
      ],
      "execution_count": null,
      "outputs": [
        {
          "output_type": "stream",
          "text": [
            "[1, 2, 3, 4, 4, 9, 1, 2, 10]\n"
          ],
          "name": "stdout"
        }
      ]
    },
    {
      "cell_type": "markdown",
      "metadata": {
        "id": "d9bOCbMy0VOA"
      },
      "source": [
        "### Removing Elements from list"
      ]
    },
    {
      "cell_type": "code",
      "metadata": {
        "colab": {
          "base_uri": "https://localhost:8080/"
        },
        "id": "cfUvqiqT0UkK",
        "outputId": "5eed8323-c61b-4efc-a962-ddec7efd805a"
      },
      "source": [
        "list3.remove(10)\n",
        "print(list3)"
      ],
      "execution_count": null,
      "outputs": [
        {
          "output_type": "stream",
          "text": [
            "[1, 2, 3, 4, 4, 9, 1, 2]\n"
          ],
          "name": "stdout"
        }
      ]
    },
    {
      "cell_type": "markdown",
      "metadata": {
        "id": "AsJ4vTkm1TAH"
      },
      "source": [
        "### Lists can contain elements of different types"
      ]
    },
    {
      "cell_type": "code",
      "metadata": {
        "colab": {
          "base_uri": "https://localhost:8080/"
        },
        "id": "Zao9J2_D1L2P",
        "outputId": "46a83b0c-83b4-40ec-e1dd-4cae566ab5cc"
      },
      "source": [
        "list3.append(\"2\")\n",
        "list3"
      ],
      "execution_count": null,
      "outputs": [
        {
          "output_type": "execute_result",
          "data": {
            "text/plain": [
              "[1, 2, 3, 4, 4, 9, 1, 2, '2', '2']"
            ]
          },
          "metadata": {
            "tags": []
          },
          "execution_count": 40
        }
      ]
    },
    {
      "cell_type": "markdown",
      "metadata": {
        "id": "FM9jB3o6z52-"
      },
      "source": [
        "### Removing last element from list"
      ]
    },
    {
      "cell_type": "code",
      "metadata": {
        "colab": {
          "base_uri": "https://localhost:8080/",
          "height": 41
        },
        "id": "T-AL5ooj0nCD",
        "outputId": "e474d237-0ef8-4fc5-9da3-59d92ef62f33"
      },
      "source": [
        "print(\"Element removed:\",list3.pop())\n",
        "print(list3)\n"
      ],
      "execution_count": null,
      "outputs": [
        {
          "output_type": "execute_result",
          "data": {
            "application/vnd.google.colaboratory.intrinsic+json": {
              "type": "string"
            },
            "text/plain": [
              "'2'"
            ]
          },
          "metadata": {
            "tags": []
          },
          "execution_count": 30
        }
      ]
    },
    {
      "cell_type": "markdown",
      "metadata": {
        "id": "83KxtNNZ0oKY"
      },
      "source": [
        "### Count of a element in list"
      ]
    },
    {
      "cell_type": "code",
      "metadata": {
        "colab": {
          "base_uri": "https://localhost:8080/"
        },
        "id": "1a4jbrEi16vj",
        "outputId": "a40cddd8-9b01-4c55-a11b-2c8a72d2072f"
      },
      "source": [
        "list3.count(1)"
      ],
      "execution_count": null,
      "outputs": [
        {
          "output_type": "execute_result",
          "data": {
            "text/plain": [
              "2"
            ]
          },
          "metadata": {
            "tags": []
          },
          "execution_count": 41
        }
      ]
    },
    {
      "cell_type": "markdown",
      "metadata": {
        "id": "GtQrcsj8zyoO"
      },
      "source": [
        "### Set can be used to remove duplicattes"
      ]
    },
    {
      "cell_type": "code",
      "metadata": {
        "colab": {
          "base_uri": "https://localhost:8080/"
        },
        "id": "FRdiUdoNz5iZ",
        "outputId": "e4eb7a9c-7047-4613-ef4a-27b2b42542e7"
      },
      "source": [
        "set(list3)"
      ],
      "execution_count": null,
      "outputs": [
        {
          "output_type": "execute_result",
          "data": {
            "text/plain": [
              "{'1', '2', '3', '4', '9'}"
            ]
          },
          "metadata": {
            "tags": []
          },
          "execution_count": 34
        }
      ]
    },
    {
      "cell_type": "markdown",
      "metadata": {
        "id": "feDQ8gcH2Azp"
      },
      "source": [
        "# Numpy"
      ]
    },
    {
      "cell_type": "markdown",
      "metadata": {
        "id": "0GF3YSdp1jPU"
      },
      "source": [
        "# Pandas"
      ]
    },
    {
      "cell_type": "markdown",
      "metadata": {
        "id": "puGjOhUS1oMc"
      },
      "source": [
        "## Series And DataFrame"
      ]
    },
    {
      "cell_type": "code",
      "metadata": {
        "id": "MveodX7_15xk"
      },
      "source": [
        ""
      ],
      "execution_count": null,
      "outputs": []
    }
  ]
}